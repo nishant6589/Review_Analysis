{
  "cells": [
    {
      "cell_type": "markdown",
      "metadata": {
        "id": "view-in-github",
        "colab_type": "text"
      },
      "source": [
        "<a href=\"https://colab.research.google.com/github/nishant6589/Review_Analysis/blob/main/web_scraping_product1.ipynb\" target=\"_parent\"><img src=\"https://colab.research.google.com/assets/colab-badge.svg\" alt=\"Open In Colab\"/></a>"
      ]
    },
    {
      "cell_type": "code",
      "execution_count": 35,
      "metadata": {
        "id": "US_wRzOZnU4-"
      },
      "outputs": [],
      "source": [
        "import requests\n",
        "import pandas as pd\n",
        "import numpy as np\n",
        "from bs4 import BeautifulSoup\n",
        "import math"
      ]
    },
    {
      "cell_type": "code",
      "execution_count": 36,
      "metadata": {
        "id": "Rj6Av3aqnU5B"
      },
      "outputs": [],
      "source": [
        "#Comment out the Product_URL to enter the link manually\n",
        "product_url = \"https://www.amazon.in/Sparx-SX0796G-Green-Black-Running/dp/B0BLVVMXSN/ref=cm_cr_arp_d_pl_foot_top?ie=UTF8\"\n",
        "#product_url = input(\"Enter the Amazon product URL: \")\n",
        "\n",
        "heads = {\"User-Agent\":\"Mozilla/5.0 (Windows NT 10.0; Win64; x64; rv:66.0) Gecko/20100101 Firefox/66.0\", \"Accept-Encoding\":\"gzip, deflate\", \"Accept\":\"text/html,application/xhtml+xml,application/xml;q=0.9,*/*;q=0.8\", \"DNT\":\"1\",\"Connection\":\"close\", \"Upgrade-Insecure-Requests\":\"1\"}"
      ]
    },
    {
      "cell_type": "code",
      "execution_count": 37,
      "metadata": {
        "colab": {
          "base_uri": "https://localhost:8080/"
        },
        "id": "WFEhuvVFnU5C",
        "outputId": "0202e7b7-344e-4964-c807-e9ebfec560a3"
      },
      "outputs": [
        {
          "output_type": "stream",
          "name": "stdout",
          "text": [
            "200\n",
            "<RequestsCookieJar[<Cookie i18n-prefs=INR for .amazon.in/>, <Cookie session-id=259-3371105-6701627 for .amazon.in/>, <Cookie session-id-time=2082787201l for .amazon.in/>]>\n",
            "possible\n",
            "<class 'bs4.element.ResultSet'>\n",
            "[<a class=\"a-link-emphasis a-text-bold\" data-hook=\"see-all-reviews-link-foot\" href=\"/Sparx-SX0796G-Green-Black-Running/product-reviews/B0BLVVMXSN?reviewerType=all_reviews\">See more reviews</a>]\n"
          ]
        }
      ],
      "source": [
        "response = requests.get(product_url, headers= heads)\n",
        "status = response.status_code\n",
        "print(status)#comment this line later\n",
        "cookiees = response.cookies\n",
        "print(cookiees)\n",
        "if status == 200:\n",
        "    print(\"possible\")\n",
        "elif status == 503:\n",
        "    print(\"Amazon Server Denied Access\")\n",
        "elif status == 404:\n",
        "    print(\"Page Not found\")\n",
        "else:\n",
        "    print(\"Unexpected Error Occured\")\n",
        "\n",
        "soup1 = BeautifulSoup(response.content, 'html.parser')\n",
        "url = soup1.find_all('a', {'data-hook':\"see-all-reviews-link-foot\"})\n",
        "print(type(url))\n",
        "print(url)"
      ]
    },
    {
      "cell_type": "code",
      "execution_count": null,
      "metadata": {
        "id": "N2D8INQZnU5D"
      },
      "outputs": [],
      "source": [
        "soup1"
      ]
    },
    {
      "cell_type": "code",
      "execution_count": 38,
      "metadata": {
        "colab": {
          "base_uri": "https://localhost:8080/"
        },
        "id": "T_i3kT2vnU5E",
        "outputId": "92358496-6d03-4e21-91bc-0d6eaf3a75ba"
      },
      "outputs": [
        {
          "output_type": "stream",
          "name": "stdout",
          "text": [
            "[<a class=\"a-link-emphasis a-text-bold\" data-hook=\"see-all-reviews-link-foot\" href=\"/Sparx-SX0796G-Green-Black-Running/product-reviews/B0BLVVMXSN?reviewerType=all_reviews\">See more reviews</a>]\n",
            "<a class=\"a-link-emphasis a-text-bold\" data-hook=\"see-all-reviews-link-foot\" href=\"/Sparx-SX0796G-Green-Black-Running/product-reviews/B0BLVVMXSN?reviewerType=all_reviews\">See more reviews</a>\n",
            "https://www.amazon.in/Sparx-SX0796G-Green-Black-Running/product-reviews/B0BLVVMXSN\n"
          ]
        }
      ],
      "source": [
        "print(url)\n",
        "# for href in url:\n",
        "#     print(href)\n",
        "\n",
        "print(url[0])\n",
        "\n",
        "temp = str(url[0])\n",
        "temp[83:-47]\n",
        "\n",
        "review_page_url = \"https://www.amazon.in\" + temp[83:-47]\n",
        "print(review_page_url)\n",
        "\n"
      ]
    },
    {
      "cell_type": "code",
      "execution_count": 39,
      "metadata": {
        "id": "ll3D3CnJnU5F",
        "colab": {
          "base_uri": "https://localhost:8080/"
        },
        "outputId": "48408b66-48de-47a5-9e91-f9a9759eb6e8"
      },
      "outputs": [
        {
          "output_type": "stream",
          "name": "stdout",
          "text": [
            "200\n",
            "possible\n"
          ]
        }
      ],
      "source": [
        "response = requests.get(review_page_url, headers= heads, cookies= cookiees)\n",
        "status = response.status_code\n",
        "print(status)#comment this line later\n",
        "if status == 200:\n",
        "    print(\"possible\")\n",
        "elif status == 503:\n",
        "    print(\"Amazon Server Denied Access\")\n",
        "elif status == 404:\n",
        "    print(\"Page Not found\")\n",
        "else:\n",
        "    print(\"Unexpected Error Occured\")\n",
        "soup1 = BeautifulSoup(response.content, 'html.parser')\n"
      ]
    },
    {
      "cell_type": "code",
      "execution_count": 40,
      "metadata": {
        "id": "cD_z0crnnU5F",
        "colab": {
          "base_uri": "https://localhost:8080/"
        },
        "outputId": "bec0cf51-c6b4-4906-c1bc-cf180c7eb39e"
      },
      "outputs": [
        {
          "output_type": "execute_result",
          "data": {
            "text/plain": [
              "str"
            ]
          },
          "metadata": {},
          "execution_count": 40
        }
      ],
      "source": [
        "review_count_find = soup1.find('div' , {'data-hook':\"cr-filter-info-review-rating-count\"}).text.strip()\n",
        "type(review_count_find)"
      ]
    },
    {
      "cell_type": "code",
      "execution_count": 41,
      "metadata": {
        "id": "ch-4DSSynU5F",
        "colab": {
          "base_uri": "https://localhost:8080/"
        },
        "outputId": "251285b8-a575-489b-9703-a611580b8ffb"
      },
      "outputs": [
        {
          "output_type": "execute_result",
          "data": {
            "text/plain": [
              "7"
            ]
          },
          "metadata": {},
          "execution_count": 41
        }
      ],
      "source": [
        "review_count_find_list = [word for word in review_count_find.split(' ')]\n",
        "review_count = int(review_count_find_list[3])\n",
        "review_count"
      ]
    },
    {
      "cell_type": "code",
      "execution_count": 42,
      "metadata": {
        "id": "vQ7sOrAnnU5G",
        "colab": {
          "base_uri": "https://localhost:8080/"
        },
        "outputId": "89e34271-5778-4775-ccf8-fdbc21b2f1e0"
      },
      "outputs": [
        {
          "output_type": "execute_result",
          "data": {
            "text/plain": [
              "1"
            ]
          },
          "metadata": {},
          "execution_count": 42
        }
      ],
      "source": [
        "total_pages = math.ceil(review_count/10)\n",
        "total_pages"
      ]
    },
    {
      "cell_type": "code",
      "execution_count": 43,
      "metadata": {
        "id": "24p3Kf1_nU5G",
        "colab": {
          "base_uri": "https://localhost:8080/"
        },
        "outputId": "7fb5b750-75ce-4345-e6b3-950cd56a18b4"
      },
      "outputs": [
        {
          "output_type": "stream",
          "name": "stdout",
          "text": [
            "13 14 9 7\n"
          ]
        }
      ],
      "source": [
        "name = []\n",
        "rating = []\n",
        "date = []\n",
        "review = []\n",
        "\n",
        "for data in (soup1.find_all('span', {'class':\"a-profile-name\"})):\n",
        "    name.append(data.get_text())\n",
        "\n",
        "for data in (soup1.find_all('span', {'class':\"a-icon-alt\"})):\n",
        "    rating.append(int(data.get_text()[:1]))\n",
        "\n",
        "for data in (soup1.find_all('span', {'class':\"a-size-base a-color-secondary review-date\"})):\n",
        "    date.append(data.get_text()[21:])\n",
        "\n",
        "\n",
        "for data in (soup1.find_all('span', {'class':\"a-size-base review-text review-text-content\"})):\n",
        "    data = data.get_text()\n",
        "    data = data.replace('\\n', '')\n",
        "    data = data.replace('.','')\n",
        "    review.append(data)\n",
        "\n",
        "print(len(name),len(rating),len(date), len(review))\n",
        "\n"
      ]
    },
    {
      "cell_type": "code",
      "source": [
        "# df = pd.DataFrame({'Name' : name1[-10:], 'Ratings': rating[-10:], 'Date': date[-10:], 'Review': review})\n",
        "# df"
      ],
      "metadata": {
        "id": "eOqCX6tntm4B"
      },
      "execution_count": 45,
      "outputs": []
    },
    {
      "cell_type": "code",
      "execution_count": 44,
      "metadata": {
        "id": "RtWq6HfwnU5H",
        "colab": {
          "base_uri": "https://localhost:8080/",
          "height": 269
        },
        "outputId": "d1363b1c-d1f8-44db-c9cf-c538af8cdf9d"
      },
      "outputs": [
        {
          "output_type": "execute_result",
          "data": {
            "text/plain": [
              "                   Name  Ratings             Date  \\\n",
              "0       Amazon Customer        5       3 May 2023   \n",
              "1             Kk Singh         1    12 March 2023   \n",
              "2             Kk Singh         1    20 March 2023   \n",
              "3     jitendra kachhela        1  20 January 2023   \n",
              "4     jitendra kachhela        1    18 March 2023   \n",
              "5  Aashish Ravi Shankar        5  20 January 2023   \n",
              "6  Aashish Ravi Shankar        5  22 January 2023   \n",
              "\n",
              "                                              Review  \n",
              "0                                               good  \n",
              "1                                        comfortable  \n",
              "2                                             osm ❤️  \n",
              "3  Fitting is good there is cushioning inside the...  \n",
              "4                                 This is not a good  \n",
              "5                      The media could not be loa...  \n",
              "6  This product is simply awesome, gives me ultim...  "
            ],
            "text/html": [
              "\n",
              "\n",
              "  <div id=\"df-096f63d5-ab72-47a5-9a22-631cf99f80d1\">\n",
              "    <div class=\"colab-df-container\">\n",
              "      <div>\n",
              "<style scoped>\n",
              "    .dataframe tbody tr th:only-of-type {\n",
              "        vertical-align: middle;\n",
              "    }\n",
              "\n",
              "    .dataframe tbody tr th {\n",
              "        vertical-align: top;\n",
              "    }\n",
              "\n",
              "    .dataframe thead th {\n",
              "        text-align: right;\n",
              "    }\n",
              "</style>\n",
              "<table border=\"1\" class=\"dataframe\">\n",
              "  <thead>\n",
              "    <tr style=\"text-align: right;\">\n",
              "      <th></th>\n",
              "      <th>Name</th>\n",
              "      <th>Ratings</th>\n",
              "      <th>Date</th>\n",
              "      <th>Review</th>\n",
              "    </tr>\n",
              "  </thead>\n",
              "  <tbody>\n",
              "    <tr>\n",
              "      <th>0</th>\n",
              "      <td>Amazon Customer</td>\n",
              "      <td>5</td>\n",
              "      <td>3 May 2023</td>\n",
              "      <td>good</td>\n",
              "    </tr>\n",
              "    <tr>\n",
              "      <th>1</th>\n",
              "      <td>Kk Singh</td>\n",
              "      <td>1</td>\n",
              "      <td>12 March 2023</td>\n",
              "      <td>comfortable</td>\n",
              "    </tr>\n",
              "    <tr>\n",
              "      <th>2</th>\n",
              "      <td>Kk Singh</td>\n",
              "      <td>1</td>\n",
              "      <td>20 March 2023</td>\n",
              "      <td>osm ❤️</td>\n",
              "    </tr>\n",
              "    <tr>\n",
              "      <th>3</th>\n",
              "      <td>jitendra kachhela</td>\n",
              "      <td>1</td>\n",
              "      <td>20 January 2023</td>\n",
              "      <td>Fitting is good there is cushioning inside the...</td>\n",
              "    </tr>\n",
              "    <tr>\n",
              "      <th>4</th>\n",
              "      <td>jitendra kachhela</td>\n",
              "      <td>1</td>\n",
              "      <td>18 March 2023</td>\n",
              "      <td>This is not a good</td>\n",
              "    </tr>\n",
              "    <tr>\n",
              "      <th>5</th>\n",
              "      <td>Aashish Ravi Shankar</td>\n",
              "      <td>5</td>\n",
              "      <td>20 January 2023</td>\n",
              "      <td>The media could not be loa...</td>\n",
              "    </tr>\n",
              "    <tr>\n",
              "      <th>6</th>\n",
              "      <td>Aashish Ravi Shankar</td>\n",
              "      <td>5</td>\n",
              "      <td>22 January 2023</td>\n",
              "      <td>This product is simply awesome, gives me ultim...</td>\n",
              "    </tr>\n",
              "  </tbody>\n",
              "</table>\n",
              "</div>\n",
              "      <button class=\"colab-df-convert\" onclick=\"convertToInteractive('df-096f63d5-ab72-47a5-9a22-631cf99f80d1')\"\n",
              "              title=\"Convert this dataframe to an interactive table.\"\n",
              "              style=\"display:none;\">\n",
              "\n",
              "  <svg xmlns=\"http://www.w3.org/2000/svg\" height=\"24px\"viewBox=\"0 0 24 24\"\n",
              "       width=\"24px\">\n",
              "    <path d=\"M0 0h24v24H0V0z\" fill=\"none\"/>\n",
              "    <path d=\"M18.56 5.44l.94 2.06.94-2.06 2.06-.94-2.06-.94-.94-2.06-.94 2.06-2.06.94zm-11 1L8.5 8.5l.94-2.06 2.06-.94-2.06-.94L8.5 2.5l-.94 2.06-2.06.94zm10 10l.94 2.06.94-2.06 2.06-.94-2.06-.94-.94-2.06-.94 2.06-2.06.94z\"/><path d=\"M17.41 7.96l-1.37-1.37c-.4-.4-.92-.59-1.43-.59-.52 0-1.04.2-1.43.59L10.3 9.45l-7.72 7.72c-.78.78-.78 2.05 0 2.83L4 21.41c.39.39.9.59 1.41.59.51 0 1.02-.2 1.41-.59l7.78-7.78 2.81-2.81c.8-.78.8-2.07 0-2.86zM5.41 20L4 18.59l7.72-7.72 1.47 1.35L5.41 20z\"/>\n",
              "  </svg>\n",
              "      </button>\n",
              "\n",
              "\n",
              "\n",
              "    <div id=\"df-d442e383-a985-47f4-b926-f471be33085e\">\n",
              "      <button class=\"colab-df-quickchart\" onclick=\"quickchart('df-d442e383-a985-47f4-b926-f471be33085e')\"\n",
              "              title=\"Suggest charts.\"\n",
              "              style=\"display:none;\">\n",
              "\n",
              "<svg xmlns=\"http://www.w3.org/2000/svg\" height=\"24px\"viewBox=\"0 0 24 24\"\n",
              "     width=\"24px\">\n",
              "    <g>\n",
              "        <path d=\"M19 3H5c-1.1 0-2 .9-2 2v14c0 1.1.9 2 2 2h14c1.1 0 2-.9 2-2V5c0-1.1-.9-2-2-2zM9 17H7v-7h2v7zm4 0h-2V7h2v10zm4 0h-2v-4h2v4z\"/>\n",
              "    </g>\n",
              "</svg>\n",
              "      </button>\n",
              "    </div>\n",
              "\n",
              "<style>\n",
              "  .colab-df-quickchart {\n",
              "    background-color: #E8F0FE;\n",
              "    border: none;\n",
              "    border-radius: 50%;\n",
              "    cursor: pointer;\n",
              "    display: none;\n",
              "    fill: #1967D2;\n",
              "    height: 32px;\n",
              "    padding: 0 0 0 0;\n",
              "    width: 32px;\n",
              "  }\n",
              "\n",
              "  .colab-df-quickchart:hover {\n",
              "    background-color: #E2EBFA;\n",
              "    box-shadow: 0px 1px 2px rgba(60, 64, 67, 0.3), 0px 1px 3px 1px rgba(60, 64, 67, 0.15);\n",
              "    fill: #174EA6;\n",
              "  }\n",
              "\n",
              "  [theme=dark] .colab-df-quickchart {\n",
              "    background-color: #3B4455;\n",
              "    fill: #D2E3FC;\n",
              "  }\n",
              "\n",
              "  [theme=dark] .colab-df-quickchart:hover {\n",
              "    background-color: #434B5C;\n",
              "    box-shadow: 0px 1px 3px 1px rgba(0, 0, 0, 0.15);\n",
              "    filter: drop-shadow(0px 1px 2px rgba(0, 0, 0, 0.3));\n",
              "    fill: #FFFFFF;\n",
              "  }\n",
              "</style>\n",
              "\n",
              "    <script>\n",
              "      async function quickchart(key) {\n",
              "        const containerElement = document.querySelector('#' + key);\n",
              "        const charts = await google.colab.kernel.invokeFunction(\n",
              "            'suggestCharts', [key], {});\n",
              "      }\n",
              "    </script>\n",
              "\n",
              "      <script>\n",
              "\n",
              "function displayQuickchartButton(domScope) {\n",
              "  let quickchartButtonEl =\n",
              "    domScope.querySelector('#df-d442e383-a985-47f4-b926-f471be33085e button.colab-df-quickchart');\n",
              "  quickchartButtonEl.style.display =\n",
              "    google.colab.kernel.accessAllowed ? 'block' : 'none';\n",
              "}\n",
              "\n",
              "        displayQuickchartButton(document);\n",
              "      </script>\n",
              "      <style>\n",
              "    .colab-df-container {\n",
              "      display:flex;\n",
              "      flex-wrap:wrap;\n",
              "      gap: 12px;\n",
              "    }\n",
              "\n",
              "    .colab-df-convert {\n",
              "      background-color: #E8F0FE;\n",
              "      border: none;\n",
              "      border-radius: 50%;\n",
              "      cursor: pointer;\n",
              "      display: none;\n",
              "      fill: #1967D2;\n",
              "      height: 32px;\n",
              "      padding: 0 0 0 0;\n",
              "      width: 32px;\n",
              "    }\n",
              "\n",
              "    .colab-df-convert:hover {\n",
              "      background-color: #E2EBFA;\n",
              "      box-shadow: 0px 1px 2px rgba(60, 64, 67, 0.3), 0px 1px 3px 1px rgba(60, 64, 67, 0.15);\n",
              "      fill: #174EA6;\n",
              "    }\n",
              "\n",
              "    [theme=dark] .colab-df-convert {\n",
              "      background-color: #3B4455;\n",
              "      fill: #D2E3FC;\n",
              "    }\n",
              "\n",
              "    [theme=dark] .colab-df-convert:hover {\n",
              "      background-color: #434B5C;\n",
              "      box-shadow: 0px 1px 3px 1px rgba(0, 0, 0, 0.15);\n",
              "      filter: drop-shadow(0px 1px 2px rgba(0, 0, 0, 0.3));\n",
              "      fill: #FFFFFF;\n",
              "    }\n",
              "  </style>\n",
              "\n",
              "      <script>\n",
              "        const buttonEl =\n",
              "          document.querySelector('#df-096f63d5-ab72-47a5-9a22-631cf99f80d1 button.colab-df-convert');\n",
              "        buttonEl.style.display =\n",
              "          google.colab.kernel.accessAllowed ? 'block' : 'none';\n",
              "\n",
              "        async function convertToInteractive(key) {\n",
              "          const element = document.querySelector('#df-096f63d5-ab72-47a5-9a22-631cf99f80d1');\n",
              "          const dataTable =\n",
              "            await google.colab.kernel.invokeFunction('convertToInteractive',\n",
              "                                                     [key], {});\n",
              "          if (!dataTable) return;\n",
              "\n",
              "          const docLinkHtml = 'Like what you see? Visit the ' +\n",
              "            '<a target=\"_blank\" href=https://colab.research.google.com/notebooks/data_table.ipynb>data table notebook</a>'\n",
              "            + ' to learn more about interactive tables.';\n",
              "          element.innerHTML = '';\n",
              "          dataTable['output_type'] = 'display_data';\n",
              "          await google.colab.output.renderOutput(dataTable, element);\n",
              "          const docLink = document.createElement('div');\n",
              "          docLink.innerHTML = docLinkHtml;\n",
              "          element.appendChild(docLink);\n",
              "        }\n",
              "      </script>\n",
              "    </div>\n",
              "  </div>\n"
            ]
          },
          "metadata": {},
          "execution_count": 44
        }
      ],
      "source": [
        "df = pd.DataFrame({'Name' : name[6:], 'Ratings': rating[7:], 'Date': date[2:], 'Review': review})\n",
        "df"
      ]
    },
    {
      "cell_type": "code",
      "source": [],
      "metadata": {
        "id": "yOw4X1LxtTp3"
      },
      "execution_count": null,
      "outputs": []
    }
  ],
  "metadata": {
    "kernelspec": {
      "display_name": "Python 3",
      "name": "python3"
    },
    "language_info": {
      "codemirror_mode": {
        "name": "ipython",
        "version": 3
      },
      "file_extension": ".py",
      "mimetype": "text/x-python",
      "name": "python",
      "nbconvert_exporter": "python",
      "pygments_lexer": "ipython3",
      "version": "3.11.3"
    },
    "orig_nbformat": 4,
    "colab": {
      "provenance": [],
      "name": "web_scraping_product1.ipynb",
      "include_colab_link": true
    }
  },
  "nbformat": 4,
  "nbformat_minor": 0
}